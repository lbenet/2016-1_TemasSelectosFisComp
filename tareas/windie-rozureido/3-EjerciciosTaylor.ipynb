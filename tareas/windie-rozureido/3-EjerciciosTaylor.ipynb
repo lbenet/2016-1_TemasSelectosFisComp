{
 "cells": [
  {
   "cell_type": "markdown",
   "metadata": {},
   "source": [
    "### Ejercicio 1: Relaciones de recurrencia\n",
    "\n",
    "Así como se hizo en clase para la exponencial, el logaritmo, y las potencias; obtén las series de recurrencia para las siguientes funciones:\n",
    "\n",
    "* Seno.\n",
    "* Coseno.\n",
    "* Tangente.\n",
    "* Cotangente.\n",
    "\n",
    "¿Hay algún problema al intentar calcular la cotangente? Si la respuesta es sí ¿cuál?, si la respuesta es no ¿por qué?"
   ]
  },
  {
   "cell_type": "markdown",
   "metadata": {},
   "source": [
    "La ecuación diferencial del seno es $$\\frac{d^2x}{dt^2} + x(t) = 0,$$ con las condiciones iniciales $x(0) = 0$ y $\\frac{dx}{dt}(0) = 1$. Escribiendo la función $x(t)$ como serie de potencias al rededor del cero, tenemos $$ x(t) = \\sum_{k=0}^{\\infty} x_k t^k,$$ y la segunda derivada es $$ \\frac{d^2x}{dt^2} = \\sum_{k=2}^{\\infty} (k-1)kx_kt^{k-2} $$. Sustituyendo en la ecuación diferencial, $$ \\sum_{k=2}^{\\infty} (k-1)kx_kt^{k-2} + \\sum_{k=2}^{\\infty} x_{k-2} t^{k-2} = 0. $$ Donde se ha cambiado los índices la serie de $x(t)$ para poder agrupar las sumas. Concluyendo que $$ (k-1)kx_k + x_{k-2},  $$ O bien, $$ x_k = \\frac{-x_{k-2}}{k(k-1)} $$. Las condiciones iniciales del seno implican que los términos pares se van y sólo quedan los impares, de la forma $$ x_{2k+1} = \\frac{(-1)^k}{(2k+1)!}.$$ Entonces, podemos escribir la serie de recurrencia del seno como $$ x(t)=\\sin(t) = \\sum_{k=0}^{\\infty} \\frac{(-1)^k t^{2k+1}}{(2k+1)!} .$$\n",
    "\n",
    "Para el coseno tenemos la misma ecuación diferencial, pero con las condiciones iniciales $x(0) = 1$ y $\\frac{dx}{dt} (0)= 0$. Así, la serie de recurrencia es la misma, sólo que las condiciones iniciales imponen que los términos con $k$ impar desaparezcan, dejando sólo términos pares. Por consiguiente, la serie de recurrencia del coseno es\n",
    "\n",
    "$$ x(t) = \\cos(t) =  \\sum_{k=0}^{\\infty} \\frac{(-1)^k t^{2k}}{(2k)!}. $$\n",
    "\n",
    "Ahora, para encontrar la serie de la tangente usamos el hecho de que $\\tan(t) = \\frac{\\sin(t)}{\\cos(t)}$ y la fórmula $$(f/g)_k = \\frac{1}{g_0} \\left( f_k - \\sum_{i=0}^{k-1} (f/g)_i g_{k-i} \\right) ,$$ \n",
    "con $f(t) = \\sin(t)$ y $g(t) = \\cos(t)$. Además hay que notar que la tangente es impar, al igual que el seno. Entonces, el elemento $2k+1$ de la tangente se puede escribir como\n",
    "$$\\tan_{2k+1} = \\sin_{2k+1} - \\sum_{i=0}^{2k}\\tan_i \\cos_{2k-i}$$\n",
    "$$ = \\frac{(-1)^k}{(2k+1)!} - \\sum_{i=0}^{2k} \\frac{(-1)^k}{(2k)!} \\tan_i,$$\n",
    "\n",
    "o bien\n",
    "\n",
    "$$\\tan(t) = \\sum_{k=0}^{\\infty} (-1)^k \\left( \\frac{1}{(2k+1)!} - \\sum_{i=0}^{2k} \\frac{1}{(2k)!} \\tan_i\\right) t^{2k+1}.$$\n",
    "\n",
    "Por otro lado, sabemos que $\\cot(t) = \\frac{\\cos(t)}{\\sin(t)}$ está indefinido en el cero, de hecho, está bien definido en $(0,\\pi)$ así que no se puede hacer la serie de la cotangente alrededor de este punto, como habíamos hecho hasta ahora. Para resolver esto se puede escribir la serie alrededor de otro punto, como $\\frac{\\pi}{2}$ por ejemplo. Así, escribimos las series del coseno y seno alrededor de $\\frac{\\pi}{2}$, \n",
    "\n",
    "$$\\cos(t)= - \\sum_{k=0}^{\\infty} \\frac{(-1)^k}{(2k+1)!} (t-\\pi /2)^{2k+1}$$\n",
    "$$\\sin(t) = \\sum_{k=0}^{\\infty} \\frac{(-1)^k}{(2k)!} (t-\\pi /2)^{2k}$$\n",
    "\n",
    "ahora se puede sustituir en la fórmula de la división, con $f(t) = \\cos(t)$ y $g(t) = \\sin(t)$.  Análogamente a como se hizo con la tangente se  encuentra que alrededor de $\\pi /2$ la cotangente se puede escribir como\n",
    "\n",
    "$$\\cot(t) = \\sum_{k=0}^{\\infty} (-1)^k \\left( \\frac{-1}{(2k+1)!} - \\sum_{i=0}^{2k} \\frac{1}{(2k)!} \\cot_i\\right) (t-\\pi /2)^{2k+1}.$$\n",
    "\n",
    "Como se vió, alrededor del cero hay problemas con la cotangente, pero se resolvió trasladando a $t = \\pi/2.$"
   ]
  },
  {
   "cell_type": "markdown",
   "metadata": {},
   "source": [
    "### Ejercicio 2: Integración con Runge–Kutta\n",
    "\n",
    "Utilizando el método de [Runge–Kutta de cuarto orden](http://www.ctcms.nist.gov/~langer/oof2man/RegisteredClass-RK4.html) haz lo siguiente:\n",
    "\n",
    "* Integra la siguiente ecuación diferencial,\n",
    "\n",
    "$$ \\dot{x} = x^2, \\qquad x(0) = 1.$$ \n",
    "\n",
    "* Compara tu solución contra la solución analítica en una gráfica.\n",
    "* Muestra cómo se comporta el error."
   ]
  },
  {
   "cell_type": "markdown",
   "metadata": {},
   "source": [
    "Primero se definirá la función rk4 que implemente el método de Runge-Kutta. Tomará los parámetros condición inicial, \"campo vectorial\", tamaño de la partición y los extremos del intervalo de integración."
   ]
  },
  {
   "cell_type": "code",
   "execution_count": 1,
   "metadata": {
    "collapsed": false
   },
   "outputs": [
    {
     "data": {
      "text/plain": [
       "rk4 (generic function with 1 method)"
      ]
     },
     "execution_count": 1,
     "metadata": {},
     "output_type": "execute_result"
    }
   ],
   "source": [
    "function rk4(x0,f,m,a,b)\n",
    "    x = Float64[]\n",
    "    t = Float64[]\n",
    "    \n",
    "    \n",
    "    push!(x,x0)\n",
    "    push!(t,a)\n",
    "  \n",
    "    Δt = (b-a)/m\n",
    "    for n in 1:m+1\n",
    "        k1 = Δt*f(x[n]) \n",
    "        k2 = Δt*f(x[n]+k1/2)\n",
    "        k3 = Δt*f(x[n]+k2/2)\n",
    "        k4 = Δt*f(x[n]+k3)\n",
    "        \n",
    "        push!(t,t[n] + Δt)\n",
    "        \n",
    "        push!(x,x[n] + k1/6 + k2/3 + k3/3 + k4/6)\n",
    "        \n",
    "    end\n",
    "    \n",
    "   \n",
    "    return [t hcat(x...)'] #Se crea una matriz para poder graficar\n",
    "    \n",
    "end\n"
   ]
  },
  {
   "cell_type": "markdown",
   "metadata": {},
   "source": [
    "Veamos primero qué hace en un intervalo que no pase por la singularidad, que como bien sabemos está en $t=1$. Probemos con el intervalo $(0,0.8)$"
   ]
  },
  {
   "cell_type": "code",
   "execution_count": 50,
   "metadata": {
    "collapsed": false
   },
   "outputs": [
    {
     "data": {
      "text/plain": [
       "10002x2 Array{Float64,2}:\n",
       " 0.0      1.0    \n",
       " 8.0e-5   1.00008\n",
       " 0.00016  1.00016\n",
       " 0.00024  1.00024\n",
       " 0.00032  1.00032\n",
       " 0.0004   1.0004 \n",
       " 0.00048  1.00048\n",
       " 0.00056  1.00056\n",
       " 0.00064  1.00064\n",
       " 0.00072  1.00072\n",
       " 0.0008   1.0008 \n",
       " 0.00088  1.00088\n",
       " 0.00096  1.00096\n",
       " ⋮               \n",
       " 0.7992   4.98008\n",
       " 0.79928  4.98206\n",
       " 0.79936  4.98405\n",
       " 0.79944  4.98604\n",
       " 0.79952  4.98803\n",
       " 0.7996   4.99002\n",
       " 0.79968  4.99201\n",
       " 0.79976  4.99401\n",
       " 0.79984  4.996  \n",
       " 0.79992  4.998  \n",
       " 0.8      5.0    \n",
       " 0.80008  5.002  "
      ]
     },
     "execution_count": 50,
     "metadata": {},
     "output_type": "execute_result"
    }
   ],
   "source": [
    "f(x) = x^2\n",
    "y = rk4(1,f,10000,0,0.8)\n",
    "\n",
    "\n"
   ]
  },
  {
   "cell_type": "code",
   "execution_count": 3,
   "metadata": {
    "collapsed": false
   },
   "outputs": [],
   "source": [
    "using PyPlot"
   ]
  },
  {
   "cell_type": "code",
   "execution_count": 51,
   "metadata": {
    "collapsed": false
   },
   "outputs": [
    {
     "name": "stdout",
     "output_type": "stream",
     "text": [
      "3.4091020604766804e-16\n"
     ]
    },
    {
     "data": {
      "image/png": "[encoded data removed]",
      "text/plain": [
       "PyPlot.Figure(PyObject <matplotlib.figure.Figure object at 0x7fc9814fab90>)"
      ]
     },
     "metadata": {},
     "output_type": "display_data"
    }
   ],
   "source": [
    "#An es la solución analítica, se crea un arreglo, para tener cada valor de la partición.\n",
    "An = Float64[]\n",
    "for n in y[:,1]\n",
    "    push!(An, 1/(1-n))\n",
    "end\n",
    "\n",
    "promedio = 0\n",
    "\n",
    "for n in 1:length(tiempo)\n",
    "    promedio = promedio + abs(((y[n,2]-An[n])/An[n]))\n",
    "end\n",
    "promedio = promedio / length(tiempo)\n",
    "\n",
    "#Se grafican tanto la solución analítica como lo que arroja rk4.\n",
    "plot(y[:,1], An[:])\n",
    "plot(y[:,1], y[:,2])\n",
    "\n",
    "println(promedio)"
   ]
  },
  {
   "cell_type": "markdown",
   "metadata": {
    "collapsed": false
   },
   "source": [
    "Visualmente no se ve mucha diferencia entre la una y la otra. Se encuentra un error relativo promedio de `3.4091020604766804e-16`.  Ahora veamos que pasa si se revasa la singularidad."
   ]
  },
  {
   "cell_type": "code",
   "execution_count": 5,
   "metadata": {
    "collapsed": false
   },
   "outputs": [
    {
     "data": {
      "text/plain": [
       "1002x2 Array{Float64,2}:\n",
       " 0.0       1.0    \n",
       " 0.0011    1.0011 \n",
       " 0.0022    1.0022 \n",
       " 0.0033    1.00331\n",
       " 0.0044    1.00442\n",
       " 0.0055    1.00553\n",
       " 0.0066    1.00664\n",
       " 0.0077    1.00776\n",
       " 0.0088    1.00888\n",
       " 0.0099    1.01   \n",
       " 0.011     1.01112\n",
       " 0.0121    1.01225\n",
       " 0.0132    1.01338\n",
       " ⋮                \n",
       " 1.089   Inf      \n",
       " 1.0901  Inf      \n",
       " 1.0912  Inf      \n",
       " 1.0923  Inf      \n",
       " 1.0934  Inf      \n",
       " 1.0945  Inf      \n",
       " 1.0956  Inf      \n",
       " 1.0967  Inf      \n",
       " 1.0978  Inf      \n",
       " 1.0989  Inf      \n",
       " 1.1     Inf      \n",
       " 1.1011  Inf      "
      ]
     },
     "execution_count": 5,
     "metadata": {},
     "output_type": "execute_result"
    }
   ],
   "source": [
    "y = rk4(1,f,1000,0,1.1)"
   ]
  },
  {
   "cell_type": "markdown",
   "metadata": {},
   "source": [
    "No es necesario graficar para darse cuenta que después de la indeterminación en $t=1$ todo se indetermina. Esto debido a que el método rk4 es recursivo. Y comparemos con la función analítica."
   ]
  },
  {
   "cell_type": "code",
   "execution_count": 6,
   "metadata": {
    "collapsed": false
   },
   "outputs": [
    {
     "data": {
      "image/png": "[encoded data removed]",
      "text/plain": [
       "PyPlot.Figure(PyObject <matplotlib.figure.Figure object at 0x7fc981dc6710>)"
      ]
     },
     "metadata": {},
     "output_type": "display_data"
    },
    {
     "data": {
      "text/plain": [
       "1-element Array{Any,1}:\n",
       " PyObject <matplotlib.lines.Line2D object at 0x7fc981c35550>"
      ]
     },
     "execution_count": 6,
     "metadata": {},
     "output_type": "execute_result"
    }
   ],
   "source": [
    "An = Float64[]\n",
    "for n in y[:,1]\n",
    "    push!(An, 1/(1-n))\n",
    "end\n",
    "\n",
    "plot(y[:,1], An[:])\n"
   ]
  },
  {
   "cell_type": "markdown",
   "metadata": {},
   "source": [
    "Ignorando la cosa rara que hace la gráfica en $t=1$ se observa el comportamiento hiperbólico que se espera. Cosa que no se encontraría en la solución de rk4 por que todo se indetermina después de $t=1$."
   ]
  },
  {
   "cell_type": "markdown",
   "metadata": {},
   "source": [
    "###  Ejercicio 3: Integración con Taylor \n",
    "\n",
    "Repite los tres puntos del ejercicio anterior utilizando el método de integración de Taylor."
   ]
  },
  {
   "cell_type": "markdown",
   "metadata": {},
   "source": [
    "Sabemos que para una ecuación diferencial ordinaria de primer grado $$\\dot{x}= f(x) , x(0) = x_0$$\n",
    "\n",
    "Los coeficientes de la serie de potencias para $x$ están dados por la sucesión de recurrencia $$ x_{k+1} = \\frac{f_k}{k+1}, $$ donde $x_0$ es la semilla de la recurrencia.\n",
    "\n",
    "Así que primero construyamos los coeficientes al rededor del cero.\n"
   ]
  },
  {
   "cell_type": "code",
   "execution_count": 10,
   "metadata": {
    "collapsed": false
   },
   "outputs": [
    {
     "data": {
      "text/plain": [
       "20-element Array{Float64,1}:\n",
       " 1.0\n",
       " 1.0\n",
       " 1.0\n",
       " 1.0\n",
       " 1.0\n",
       " 1.0\n",
       " 1.0\n",
       " 1.0\n",
       " 1.0\n",
       " 1.0\n",
       " 1.0\n",
       " 1.0\n",
       " 1.0\n",
       " 1.0\n",
       " 1.0\n",
       " 1.0\n",
       " 1.0\n",
       " 1.0\n",
       " 1.0\n",
       " 1.0"
      ]
     },
     "execution_count": 10,
     "metadata": {},
     "output_type": "execute_result"
    }
   ],
   "source": [
    "Order_N = 20 #Truncamiento de la serie.\n",
    "\n",
    "X = Float64[]\n",
    "push!(X,1)\n",
    "for n in 2:Order_N\n",
    "    b=0\n",
    "    for i in 1:n-1\n",
    "        b= b +  X[i]*X[n-i]\n",
    "    end\n",
    "    push!(X,b/(n-1))\n",
    "    \n",
    "end\n",
    "\n",
    "X\n",
    "        "
   ]
  },
  {
   "cell_type": "markdown",
   "metadata": {},
   "source": [
    "Ahora evaluamos en el siguiente paso $\\Delta t$. O sea, con nuestro truncamiento tenemos,$$x(\\Delta t) = \\sum_{k= 0}^{20} (\\Delta t)^k$$. \n",
    "\n",
    "Tenemos que $\\Delta t$ en nuestro caso debe cumplir con \n",
    " \n",
    "$$ \\Delta t < \\left(\\epsilon /x_{20} \\right)^{1/20},$$\n",
    "\n",
    "para fijar ideas, hagamos $\\Delta t = \\frac{1}{2} \\left(\\epsilon /x_{20} \\right)^{1/20} $. con $\\epsilon = 1.0\\times 10^{-20}$"
   ]
  },
  {
   "cell_type": "code",
   "execution_count": 11,
   "metadata": {
    "collapsed": false
   },
   "outputs": [
    {
     "data": {
      "text/plain": [
       "1.000050002500125"
      ]
     },
     "execution_count": 11,
     "metadata": {},
     "output_type": "execute_result"
    }
   ],
   "source": [
    "\n",
    "ϵ0 = 1.0e-80 # Se define la épsilon.\n",
    "Δt = 0.5*(ϵ0)^(1/20) # Se define el siguiente paso.\n",
    "\n",
    "a = 0\n",
    "\n",
    "for k in 2:Order_N # se va de regreso para aumentar la presición y no sumar épsilons de la máquina.\n",
    "    \n",
    "    a = (X[22-k] + a)*Δt\n",
    "    \n",
    "end\n",
    "\n",
    "a +X[1]\n",
    " \n"
   ]
  },
  {
   "cell_type": "markdown",
   "metadata": {},
   "source": [
    "Este último resultado es $x(\\Delta t)$. Ahora se repetirán estos últimos pasos, se encontrará un nuevo paso $\\Delta t'$ y se encontrará la serie al rededor de $\\Delta t$. Se encontrará el valor de $x(\\Delta t + \\Delta t')$ con esta serie y así se va avanzando... En el siguiente código se implementará un código que haga esto para el intervalo dado. Empezando desde cero, se vuelve a hacer lo que se hizo arriba. Eso sólo se hizo para entender que estaba pasando."
   ]
  },
  {
   "cell_type": "code",
   "execution_count": 42,
   "metadata": {
    "collapsed": false
   },
   "outputs": [
    {
     "data": {
      "text/plain": [
       "IntTaylor (generic function with 1 method)"
      ]
     },
     "execution_count": 42,
     "metadata": {},
     "output_type": "execute_result"
    }
   ],
   "source": [
    "#Se define la función IntTaylor que ejecuta el método de Taylor para el caso particular de esta tarea.\n",
    "function IntTaylor(ϵ0, c)\n",
    "\n",
    "#ϵ0 = 1.0e-20 # Se define la épsilon.\n",
    "\n",
    "t=0\n",
    "\n",
    "Xsol = Float64[] #Xsol irá guardando los valores de x(t)\n",
    "tiempo = Float64[]#tiempo tendrá los elementos de la partición en el intervalo En el que se esté trabajando.\n",
    "\n",
    "push!(Xsol,1) #La condición inicial.\n",
    "\n",
    "push!(tiempo,t) #El primer elemento de la partición es cero.\n",
    "\n",
    "m = 1 # Necesito contar los ciclos del while siguiente.\n",
    "\n",
    "while t <=c\n",
    "    \n",
    "    X = Float64[] #Este arreglo tendrá los coeficientes de la serie al rededor de 't'.\n",
    "    push!(X,Xsol[m]) #El primer coeficiente es la condición 'inicial'\n",
    "    \n",
    "    for n in 2:Order_N # En este ciclo se calculan los coeficientes de la serie al rededor de 't'\n",
    "        \n",
    "        b=0\n",
    "        for i in 1:n-1\n",
    "            b= b +  X[i]*X[n-i]\n",
    "        end\n",
    "        push!(X,b/(n-1))\n",
    "  \n",
    "   end\n",
    "    Δt = 0.5*(ϵ0/X[20])^(1/19) # Se define el tamaño del siguiente paso.\n",
    "    a = 0\n",
    "\n",
    "     for k in 2:Order_N # se va de regreso para aumentar la presición y no sumar épsilons de la máquina.\n",
    "    \n",
    "        a = (X[22-k] + a)*Δt\n",
    "    \n",
    "    end\n",
    "\n",
    "        push!(Xsol,a +X[1]) #Al arreglo Xsol se le agrega la siguiete solución. \n",
    "        t = t +Δt; #Se avansa en el tiempo\n",
    "        \n",
    "    push!(tiempo,t)\n",
    "    m = m +1;\n",
    "    if m == 10000\n",
    "        break\n",
    "    end\n",
    "    \n",
    "end\n",
    "    \n",
    "    return Xsol\n",
    "end"
   ]
  },
  {
   "cell_type": "code",
   "execution_count": 58,
   "metadata": {
    "collapsed": false
   },
   "outputs": [
    {
     "data": {
      "text/plain": [
       "56-element Array{Float64,1}:\n",
       "  1.0    \n",
       "  1.04635\n",
       "  1.09472\n",
       "  1.1452 \n",
       "  1.19788\n",
       "  1.25285\n",
       "  1.3102 \n",
       "  1.37003\n",
       "  1.43243\n",
       "  1.49752\n",
       "  1.5654 \n",
       "  1.63618\n",
       "  1.70998\n",
       "  ⋮      \n",
       "  6.65693\n",
       "  6.93494\n",
       "  7.2239 \n",
       "  7.52424\n",
       "  7.83636\n",
       "  8.1607 \n",
       "  8.49772\n",
       "  8.84788\n",
       "  9.21166\n",
       "  9.58957\n",
       "  9.98211\n",
       " 10.3898 "
      ]
     },
     "execution_count": 58,
     "metadata": {},
     "output_type": "execute_result"
    }
   ],
   "source": [
    "y = IntTaylor(1.0e-20,0.9)"
   ]
  },
  {
   "cell_type": "code",
   "execution_count": 64,
   "metadata": {
    "collapsed": false
   },
   "outputs": [
    {
     "name": "stdout",
     "output_type": "stream",
     "text": [
      "2.8573091371528405e-16\n"
     ]
    }
   ],
   "source": [
    "An = Float64[]\n",
    "for n in tiempo[:]\n",
    "    push!(An, 1/(1-n))\n",
    "end\n",
    "\n",
    "promedio = 0\n",
    "\n",
    "for n in 1:length(tiempo)\n",
    "    promedio = promedio + abs(((y[n]-An[n])/An[n]))\n",
    "end\n",
    "promedio = promedio / length(tiempo)\n",
    "\n",
    "#plot(tiempo[:], y[:])\n",
    "#plot(tiempo[:], An[:])\n",
    "\n",
    "println(promedio)"
   ]
  },
  {
   "cell_type": "markdown",
   "metadata": {},
   "source": [
    "Con el método de Taylor se encuentra un error relativo promedio de `2.8573091371528405e-16`. Del mismo orden de magnitud que el error relativo promedio de Runge-Kuta. Se esperaría que este fuera mucho mayor que el de Taylor, pero recordemos que la media aritmética no es suficiente para un buen estudio estadístico, además podría deberse al truncamiento hecho. En fin, la diferencia más grande e importante entre estos dos métodos se estudia a continuación. Integremos en un intervalo que supere la singularidad. Recordemos que Runge-Kuta, debido a su paso fijo, pasa por la singularidad y se indetermina todo después de esta. Veamos qué hace Taylor."
   ]
  },
  {
   "cell_type": "code",
   "execution_count": 66,
   "metadata": {
    "collapsed": false
   },
   "outputs": [
    {
     "data": {
      "text/plain": [
       "10000-element Array{Float64,1}:\n",
       " 1.0       \n",
       " 1.04635   \n",
       " 1.09472   \n",
       " 1.1452    \n",
       " 1.19788   \n",
       " 1.25285   \n",
       " 1.3102    \n",
       " 1.37003   \n",
       " 1.43243   \n",
       " 1.49752   \n",
       " 1.5654    \n",
       " 1.63618   \n",
       " 1.70998   \n",
       " ⋮         \n",
       " 1.51856e15\n",
       " 1.51856e15\n",
       " 1.51856e15\n",
       " 1.51856e15\n",
       " 1.51856e15\n",
       " 1.51856e15\n",
       " 1.51856e15\n",
       " 1.51856e15\n",
       " 1.51856e15\n",
       " 1.51856e15\n",
       " 1.51856e15\n",
       " 1.51856e15"
      ]
     },
     "execution_count": 66,
     "metadata": {},
     "output_type": "execute_result"
    }
   ],
   "source": [
    "y = IntTaylor(1.0e-20,1.2)"
   ]
  },
  {
   "cell_type": "markdown",
   "metadata": {},
   "source": [
    "Lo primero que salta a la vista es el hecho de que el arreglo que salió tiene 10000 (diezmil) entradas, que resulta ser el límite impuesto en el número de itarciones. A continuación se observa dicho arreglo y se tiene que la solución no se indetermina. Se estanca en un valor más no regresa infinito como respuesta. Esto es, el método de Taylor no pasa por la singularidad. Esto porque, a diferencia de RK4, Taylor no tiene un paso fijo en el dominio. Va construyendo la solución localmente y el siguiente paso depende del anterior. Esta es una ventaja enorme. Por que a priori no se sabe si la solución se indetermina o no en algún punto, restringiendo el dominio. Y Taylor integra sobre el dominio deseado sin que lo especifiquemos en algún lado. Sólo hay que tener cuidado en fijar un número máximo de iteraciones."
   ]
  },
  {
   "cell_type": "markdown",
   "metadata": {},
   "source": [
    "### Ejercicio 4: Recordatorio\n",
    "\n",
    "> Memoria minuitur nisi eam exerceas — La memoria disminuye si no la ejercitas (Marco Tulio Cicerón).\n",
    "\n",
    "Con tus palabras explica (sin utilizar muchas matemáticas) lo siguiente:\n",
    "\n",
    "* La esencia del método de integración de Taylor.\n",
    "* ¿Qué relación tiene con los duales?\n",
    "* ¿Cómo elegimos el paso de avance en el método de Taylor?\n",
    "* ¿Se pueden integrar sistemas de ecuaciones con este método? ¿Por qué?"
   ]
  },
  {
   "cell_type": "markdown",
   "metadata": {
    "collapsed": true
   },
   "source": [
    "* La escencia del método de integración de Taylor es construir la solución a una eccuación diferencial usando polinomios de Taylor localmente en cada punto de la partición del dominio. Esta no se escoge a priori, el método se encarga de ir construyendo los pasos de integración, dependiendo de la precisión deseada y la el último polinomio calculado.\n",
    "\n",
    "* Lo más importante del método de Taylor es poder manipular los coeficientes de los polinomios. Esto se puede hacer muy fácil si se definen vectores de $n$ entradas $(a_0, a_1, a_2, ..., a_n)$ donde cada $a_i$ es el coeficiente de un polinomio de Taylor de orden $n$ de alguna función $x(t)$. Análogamente como con los Dueales, para estos vectores se definen operaciones aritméticas básicas, y funciones más complicadas (polinomios, exponentes, trigonométricas, exponenciales, logaritmos, ...) con lo que se simplifica el método de integración de Taylor, además de economizar recursos.\n",
    "\n",
    "* En el método de integración de Taylor, la partición en el dominio no es algo que esté dado desde un principio. Esta se va construyendo junto con la solución, depende de la precisión deseada así como del polinomio recién calculado (los últimos términos para precisar más).\n",
    "\n",
    "* Se sabe las la series de Taylor se puden generalizar a $\\mathbb{R}^n$, así que el método de integración de Taylor también se puede generalizar a más dimenciones. \n",
    "\n"
   ]
  }
 ],
 "metadata": {
  "kernelspec": {
   "display_name": "Julia 0.4.0-dev",
   "language": "julia",
   "name": "julia-0.4"
  },
  "language_info": {
   "name": "julia",
   "version": "0.4.0"
  }
 },
 "nbformat": 4,
 "nbformat_minor": 0
}
